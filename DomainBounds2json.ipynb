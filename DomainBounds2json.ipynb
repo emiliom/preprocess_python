{
 "cells": [
  {
   "cell_type": "code",
   "execution_count": null,
   "metadata": {},
   "outputs": [],
   "source": [
    "# create a JSON with bounding parameters for each modeling domain"
   ]
  },
  {
   "cell_type": "code",
   "execution_count": 1,
   "metadata": {},
   "outputs": [],
   "source": [
    "WY = {\n",
    "    \"name\": 'WY',\n",
    "    \"Bbox\": {'latmax' : 44.582480,'latmin' : 42.363116,'lonmax': -109.477849,'lonmin': -111.155208,},\n",
    "    \"st\": \"2014-10-01\", \n",
    "    \"ed\": \"2019-09-29\",\n",
    "    \"stn_proj\": 'epsg:4326',\n",
    "    \"mod_proj\": 'epsg:32612'\n",
    "}\n",
    "\n",
    "OR = {\n",
    "    \"name\": 'OR',\n",
    "    \"Bbox\": {'latmax' : 44.74,'latmin' : 43.645,'lonmax': -121.11,'lonmin': -122.11,},\n",
    "    \"st\": \"2014-09-01\", \n",
    "    \"ed\": \"2019-09-01\",\n",
    "    \"stn_proj\": 'epsg:4326',\n",
    "    \"mod_proj\": 'epsg:32610'\n",
    "}\n",
    "\n",
    "UT = {\n",
    "    \"name\": 'UT',\n",
    "    \"Bbox\": {'latmax' : 40.7119,'latmin' : 40.4407,'lonmax': -111.461,'lonmin': -111.7986,},\n",
    "    \"st\": \"2014-09-01\", \n",
    "    \"ed\": \"2019-09-01\",\n",
    "    \"stn_proj\": 'epsg:4326',\n",
    "    \"mod_proj\": 'epsg:32612'\n",
    "}\n",
    "\n",
    "WA = {\n",
    "    \"name\": 'WA',\n",
    "    \"Bbox\": {'latmax' : 48.951,'latmin' : 48.206,'lonmax': -119.804,'lonmin': -120.991,},\n",
    "    \"st\": \"2014-09-01\", \n",
    "    \"ed\": \"2019-09-01\",\n",
    "    \"stn_proj\": 'epsg:4326',\n",
    "    \"mod_proj\": 'epsg:32610'\n",
    "}\n",
    "\n",
    "CSO_domains = {\n",
    "    \"WY\": WY,\n",
    "    \"OR\": OR,\n",
    "    \"UT\": UT,\n",
    "    \"WA\": WA\n",
    "}"
   ]
  },
  {
   "cell_type": "code",
   "execution_count": 2,
   "metadata": {},
   "outputs": [
    {
     "data": {
      "text/plain": [
       "dict_keys(['WY', 'OR', 'UT', 'WA'])"
      ]
     },
     "execution_count": 2,
     "metadata": {},
     "output_type": "execute_result"
    }
   ],
   "source": [
    "CSO_domains.keys()"
   ]
  },
  {
   "cell_type": "code",
   "execution_count": 4,
   "metadata": {},
   "outputs": [],
   "source": [
    "#save baseline .par file\n",
    "import json\n",
    "\n",
    "json = json.dumps(CSO_domains)\n",
    "f = open('/nfs/attic/dfh/Aragon2/CSOdata/CSO_domains.json',\"w\")\n",
    "f.write(json)\n",
    "f.close()"
   ]
  },
  {
   "cell_type": "code",
   "execution_count": null,
   "metadata": {},
   "outputs": [],
   "source": []
  }
 ],
 "metadata": {
  "kernelspec": {
   "display_name": "Python [conda env:snowmodelcal]",
   "language": "python",
   "name": "conda-env-snowmodelcal-py"
  },
  "language_info": {
   "codemirror_mode": {
    "name": "ipython",
    "version": 3
   },
   "file_extension": ".py",
   "mimetype": "text/x-python",
   "name": "python",
   "nbconvert_exporter": "python",
   "pygments_lexer": "ipython3",
   "version": "3.6.10"
  }
 },
 "nbformat": 4,
 "nbformat_minor": 4
}
