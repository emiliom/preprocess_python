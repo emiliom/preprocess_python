{
 "cells": [
  {
   "cell_type": "markdown",
   "metadata": {},
   "source": [
    "# Fetch and export SNOTEL sites and daily time series data\n",
    "2/29/2020"
   ]
  },
  {
   "cell_type": "code",
   "execution_count": 1,
   "metadata": {},
   "outputs": [],
   "source": [
    "from collections import OrderedDict\n",
    "\n",
    "import numpy as np\n",
    "import pandas as pd\n",
    "import geopandas as gpd\n",
    "from shapely import geometry as sgeom\n",
    "import ulmo\n",
    "import json\n",
    "\n",
    "import matplotlib.pyplot as plt\n",
    "%matplotlib inline"
   ]
  },
  {
   "cell_type": "code",
   "execution_count": 18,
   "metadata": {},
   "outputs": [],
   "source": [
    "########## USER ###########\n",
    "# Select modeling domain ('WY', 'UT', 'OR', 'WA','HJA','CA')\n",
    "domain = 'HJA'\n",
    "\n",
    "# # Select the files you want (1=True, 0=False)\n",
    "# # metadata for SNOTEL stations within you domain \n",
    "# SNOTELmeta = 1\n",
    "\n",
    "# # SWE depth [m] data for SNOTEL stations within you domain over modeling timespan\n",
    "# SWEdata = 1\n",
    "\n",
    "# # Snow depth [m] data for SNOTEL stations within you domain over modeling timespan\n",
    "# SNODdata = 1"
   ]
  },
  {
   "cell_type": "code",
   "execution_count": 19,
   "metadata": {},
   "outputs": [],
   "source": [
    "# Outfile path\n",
    "outpath = '/nfs/attic/dfh/Aragon2/CSOdata/'+domain+'/'\n",
    "\n",
    "#path to CSO domain json\n",
    "with open('/nfs/attic/dfh/Aragon2/CSOdata/CSO_domains.json') as f:\n",
    "    domains = json.load(f)\n",
    "\n",
    "#start date    \n",
    "st = domains[domain]['st']\n",
    "#end date\n",
    "ed = domains[domain]['ed']\n",
    "\n",
    "#Snotel bounding box\n",
    "Bbox = domains[domain]['Bbox']\n",
    "\n",
    "# Snotel projection\n",
    "stn_proj = domains[domain]['stn_proj']\n",
    "# model projection\n",
    "mod_proj = domains[domain]['mod_proj']"
   ]
  },
  {
   "cell_type": "code",
   "execution_count": 20,
   "metadata": {},
   "outputs": [],
   "source": [
    "# Can enter manually if you do not have a JSON from the DomainParams_2JSON Notebook\n",
    "\n",
    "# ##USER INPUTS## - most of this can be read directly from the .ctl file or the .par file \n",
    "# #-> need to read in text file\n",
    "# #start date\n",
    "# st = \"2014-10-01\"\n",
    "# #end date\n",
    "# ed = \"2019-09-29\"\n",
    "\n",
    "\n",
    "# #Snotel bounding box\n",
    "# Bbox = {\n",
    "#     'latmax' : 44.582480,\n",
    "#     'latmin' : 42.363116,\n",
    "#     'lonmax': -109.477849,\n",
    "#     'lonmin': -111.155208,}\n",
    "\n",
    "# # Snotel projection\n",
    "# stn_proj = 'epsg:4326' #WGS84\n",
    "# #model projection\n",
    "# mod_proj = 'epsg:32612' #UTM zone 12N"
   ]
  },
  {
   "cell_type": "markdown",
   "metadata": {},
   "source": [
    "# Use ulmo to get SNOTEL station metadata within bounding box\n",
    "## Get SNOTEL metadata over modeling domain"
   ]
  },
  {
   "cell_type": "code",
   "execution_count": 21,
   "metadata": {},
   "outputs": [],
   "source": [
    "#function to extract data\n",
    "def sites_asgdf(ulmo_getsites, crs=stn_proj):\n",
    "    \"\"\" Convert ulmo.cuahsi.wof.get_sites response into a point GeoDataframe\n",
    "    \"\"\"\n",
    "    \n",
    "    # Note: Found one SNOTEL site that was missing the location key\n",
    "    sites_df = pd.DataFrame.from_records([\n",
    "        OrderedDict(code=s['code'], \n",
    "        longitude=float(s['location']['longitude']), \n",
    "        latitude=float(s['location']['latitude']), \n",
    "        name=s['name'], \n",
    "        elevation_m=s['elevation_m'])\n",
    "        for _,s in ulmo_getsites.items()\n",
    "        if 'location' in s\n",
    "    ])\n",
    "\n",
    "    sites_gdf = gpd.GeoDataFrame(\n",
    "        sites_df, \n",
    "        geometry=gpd.points_from_xy(sites_df['longitude'], sites_df['latitude']),\n",
    "        crs=crs\n",
    "    )\n",
    "    return sites_gdf"
   ]
  },
  {
   "cell_type": "code",
   "execution_count": 22,
   "metadata": {},
   "outputs": [],
   "source": [
    "# Convert the bounding box dictionary to a shapely Polygon geometry using sgeom.box\n",
    "box_sgeom = sgeom.box(Bbox['lonmin'], Bbox['latmin'], Bbox['lonmax'], Bbox['latmax'])\n",
    "box_gdf = gpd.GeoDataFrame(geometry=[box_sgeom], crs=stn_proj)"
   ]
  },
  {
   "cell_type": "code",
   "execution_count": 23,
   "metadata": {},
   "outputs": [],
   "source": [
    "# WaterML/WOF WSDL endpoint url \n",
    "wsdlurl = \"http://hydroportal.cuahsi.org/Snotel/cuahsi_1_1.asmx?WSDL\"\n",
    "\n",
    "# get dictionary of snotel sites \n",
    "sites = ulmo.cuahsi.wof.get_sites(wsdlurl,user_cache=True)\n",
    "\n",
    "#turn sites as geodataframe \n",
    "snotel_gdf = sites_asgdf(sites)"
   ]
  },
  {
   "cell_type": "code",
   "execution_count": 24,
   "metadata": {},
   "outputs": [
    {
     "data": {
      "text/html": [
       "<div>\n",
       "<style scoped>\n",
       "    .dataframe tbody tr th:only-of-type {\n",
       "        vertical-align: middle;\n",
       "    }\n",
       "\n",
       "    .dataframe tbody tr th {\n",
       "        vertical-align: top;\n",
       "    }\n",
       "\n",
       "    .dataframe thead th {\n",
       "        text-align: right;\n",
       "    }\n",
       "</style>\n",
       "<table border=\"1\" class=\"dataframe\">\n",
       "  <thead>\n",
       "    <tr style=\"text-align: right;\">\n",
       "      <th></th>\n",
       "      <th>code</th>\n",
       "      <th>longitude</th>\n",
       "      <th>latitude</th>\n",
       "      <th>name</th>\n",
       "      <th>elevation_m</th>\n",
       "      <th>geometry</th>\n",
       "      <th>easting</th>\n",
       "      <th>northing</th>\n",
       "    </tr>\n",
       "  </thead>\n",
       "  <tbody>\n",
       "  </tbody>\n",
       "</table>\n",
       "</div>"
      ],
      "text/plain": [
       "Empty GeoDataFrame\n",
       "Columns: [code, longitude, latitude, name, elevation_m, geometry, easting, northing]\n",
       "Index: []"
      ]
     },
     "execution_count": 24,
     "metadata": {},
     "output_type": "execute_result"
    }
   ],
   "source": [
    "CSO_gdf = gpd.sjoin(snotel_gdf, box_gdf, how=\"inner\")\n",
    "CSO_gdf.drop(columns='index_right', inplace=True)\n",
    "CSO_gdf.reset_index(drop=True, inplace=True)\n",
    "#CSO_gdf.index = CSO_gdf['code']\n",
    "\n",
    "#add columns with projected coordinates \n",
    "CSO_proj = CSO_gdf.to_crs(mod_proj)\n",
    "CSO_gdf['easting'] = CSO_proj.geometry.x\n",
    "CSO_gdf['northing'] = CSO_proj.geometry.y\n",
    "\n",
    "CSO_gdf.head()"
   ]
  },
  {
   "cell_type": "markdown",
   "metadata": {},
   "source": [
    "## Visualize station locations"
   ]
  },
  {
   "cell_type": "code",
   "execution_count": 9,
   "metadata": {},
   "outputs": [
    {
     "data": {
      "image/png": "[encoded data removed]",
      "text/plain": [
       "<Figure size 432x288 with 1 Axes>"
      ]
     },
     "metadata": {
      "needs_background": "light"
     },
     "output_type": "display_data"
    }
   ],
   "source": [
    "CSO_gdf.plot();"
   ]
  },
  {
   "cell_type": "markdown",
   "metadata": {},
   "source": [
    "# Get SNOTEL SWE data in domain, over time period of interest"
   ]
  },
  {
   "cell_type": "code",
   "execution_count": 10,
   "metadata": {},
   "outputs": [],
   "source": [
    "def fetch(sitecode, variablecode, start_date, end_date):\n",
    "    print(sitecode, variablecode, start_date, end_date)\n",
    "    values_df = None\n",
    "    try:\n",
    "        #Request data from the server\n",
    "        site_values = ulmo.cuahsi.wof.get_values(\n",
    "            wsdlurl, 'SNOTEL:'+sitecode, variablecode, start=start_date, end=end_date\n",
    "        )\n",
    "        #Convert to a Pandas DataFrame   \n",
    "        values_df = pd.DataFrame.from_dict(site_values['values'])\n",
    "        #Parse the datetime values to Pandas Timestamp objects\n",
    "        values_df['datetime'] = pd.to_datetime(values_df['datetime'])\n",
    "        #Set the DataFrame index to the Timestamps\n",
    "        values_df.set_index('datetime', inplace=True)\n",
    "        #Convert values to float and replace -9999 nodata values with NaN\n",
    "        values_df['value'] = pd.to_numeric(values_df['value']).replace(-9999, np.nan)\n",
    "        #Remove any records flagged with lower quality\n",
    "        values_df = values_df[values_df['quality_control_level_code'] == '1']\n",
    "    except:\n",
    "        print(\"Unable to fetch %s\" % variablecode)\n",
    "    \n",
    "    return values_df"
   ]
  },
  {
   "cell_type": "code",
   "execution_count": 11,
   "metadata": {},
   "outputs": [
    {
     "name": "stdout",
     "output_type": "stream",
     "text": [
      "340_NV_SNTL SNOTEL:WTEQ_D 2014-09-01 2019-09-30\n",
      "356_CA_SNTL SNOTEL:WTEQ_D 2014-09-01 2019-09-30\n",
      "1051_CA_SNTL SNOTEL:WTEQ_D 2014-09-01 2019-09-30\n",
      "1067_CA_SNTL SNOTEL:WTEQ_D 2014-09-01 2019-09-30\n",
      "428_CA_SNTL SNOTEL:WTEQ_D 2014-09-01 2019-09-30\n",
      "462_CA_SNTL SNOTEL:WTEQ_D 2014-09-01 2019-09-30\n",
      "463_CA_SNTL SNOTEL:WTEQ_D 2014-09-01 2019-09-30\n",
      "473_CA_SNTL SNOTEL:WTEQ_D 2014-09-01 2019-09-30\n",
      "1049_CA_SNTL SNOTEL:WTEQ_D 2014-09-01 2019-09-30\n",
      "508_CA_SNTL SNOTEL:WTEQ_D 2014-09-01 2019-09-30\n",
      "518_CA_SNTL SNOTEL:WTEQ_D 2014-09-01 2019-09-30\n",
      "1050_CA_SNTL SNOTEL:WTEQ_D 2014-09-01 2019-09-30\n",
      "539_CA_SNTL SNOTEL:WTEQ_D 2014-09-01 2019-09-30\n",
      "540_CA_SNTL SNOTEL:WTEQ_D 2014-09-01 2019-09-30\n",
      "541_CA_SNTL SNOTEL:WTEQ_D 2014-09-01 2019-09-30\n",
      "1242_NV_SNTL SNOTEL:WTEQ_D 2014-09-01 2019-09-30\n",
      "615_NV_SNTL SNOTEL:WTEQ_D 2014-09-01 2019-09-30\n",
      "652_NV_SNTL SNOTEL:WTEQ_D 2014-09-01 2019-09-30\n",
      "258_NV_SNTL SNOTEL:WTEQ_D 2014-09-01 2019-09-30\n"
     ]
    },
    {
     "name": "stderr",
     "output_type": "stream",
     "text": [
      "<suds.sax.document.Document object at 0x7f80f62009e8>\n"
     ]
    },
    {
     "name": "stdout",
     "output_type": "stream",
     "text": [
      "Unable to fetch SNOTEL:WTEQ_D\n",
      "724_CA_SNTL SNOTEL:WTEQ_D 2014-09-01 2019-09-30\n",
      "778_CA_SNTL SNOTEL:WTEQ_D 2014-09-01 2019-09-30\n",
      "784_CA_SNTL SNOTEL:WTEQ_D 2014-09-01 2019-09-30\n",
      "809_CA_SNTL SNOTEL:WTEQ_D 2014-09-01 2019-09-30\n",
      "834_CA_SNTL SNOTEL:WTEQ_D 2014-09-01 2019-09-30\n",
      "848_CA_SNTL SNOTEL:WTEQ_D 2014-09-01 2019-09-30\n",
      "246_CA_SNTL SNOTEL:WTEQ_D 2014-09-01 2019-09-30\n"
     ]
    },
    {
     "name": "stderr",
     "output_type": "stream",
     "text": [
      "<suds.sax.document.Document object at 0x7f80f63222e8>\n"
     ]
    },
    {
     "name": "stdout",
     "output_type": "stream",
     "text": [
      "Unable to fetch SNOTEL:WTEQ_D\n"
     ]
    }
   ],
   "source": [
    "stn_swe = pd.DataFrame(index=pd.date_range(start=st, end=ed))\n",
    "\n",
    "for sitecode in CSO_gdf.code:\n",
    "    try:\n",
    "        swe = fetch(sitecode, variablecode='SNOTEL:WTEQ_D', start_date=st, end_date=ed)\n",
    "        #check for nan values\n",
    "        if len(swe.value[np.isnan(swe.value)]) > 0:\n",
    "            #check if more than 10% of data is missing\n",
    "            if len(swe.value[np.isnan(swe.value)])/len(swe) > .1:\n",
    "                print('More than 10% of days missing')\n",
    "                CSO_gdf.drop(CSO_gdf.loc[CSO_gdf['code']==sitecode].index, inplace=True)\n",
    "                continue\n",
    "        stn_swe[sitecode] = swe.value\n",
    "    except:\n",
    "        CSO_gdf.drop(CSO_gdf.loc[CSO_gdf['code']==sitecode].index, inplace=True)"
   ]
  },
  {
   "cell_type": "code",
   "execution_count": 12,
   "metadata": {},
   "outputs": [
    {
     "data": {
      "text/html": [
       "<div>\n",
       "<style scoped>\n",
       "    .dataframe tbody tr th:only-of-type {\n",
       "        vertical-align: middle;\n",
       "    }\n",
       "\n",
       "    .dataframe tbody tr th {\n",
       "        vertical-align: top;\n",
       "    }\n",
       "\n",
       "    .dataframe thead th {\n",
       "        text-align: right;\n",
       "    }\n",
       "</style>\n",
       "<table border=\"1\" class=\"dataframe\">\n",
       "  <thead>\n",
       "    <tr style=\"text-align: right;\">\n",
       "      <th></th>\n",
       "      <th>340_NV_SNTL</th>\n",
       "      <th>356_CA_SNTL</th>\n",
       "      <th>1051_CA_SNTL</th>\n",
       "      <th>1067_CA_SNTL</th>\n",
       "      <th>428_CA_SNTL</th>\n",
       "      <th>462_CA_SNTL</th>\n",
       "      <th>463_CA_SNTL</th>\n",
       "      <th>473_CA_SNTL</th>\n",
       "      <th>1049_CA_SNTL</th>\n",
       "      <th>508_CA_SNTL</th>\n",
       "      <th>...</th>\n",
       "      <th>541_CA_SNTL</th>\n",
       "      <th>1242_NV_SNTL</th>\n",
       "      <th>615_NV_SNTL</th>\n",
       "      <th>652_NV_SNTL</th>\n",
       "      <th>724_CA_SNTL</th>\n",
       "      <th>778_CA_SNTL</th>\n",
       "      <th>784_CA_SNTL</th>\n",
       "      <th>809_CA_SNTL</th>\n",
       "      <th>834_CA_SNTL</th>\n",
       "      <th>848_CA_SNTL</th>\n",
       "    </tr>\n",
       "  </thead>\n",
       "  <tbody>\n",
       "    <tr>\n",
       "      <th>2014-09-01</th>\n",
       "      <td>0.0</td>\n",
       "      <td>0.0</td>\n",
       "      <td>0.0</td>\n",
       "      <td>0.0</td>\n",
       "      <td>0.0</td>\n",
       "      <td>0.0</td>\n",
       "      <td>0.0</td>\n",
       "      <td>0.0</td>\n",
       "      <td>0.0</td>\n",
       "      <td>0.0</td>\n",
       "      <td>...</td>\n",
       "      <td>0.0</td>\n",
       "      <td>0.0</td>\n",
       "      <td>0.0</td>\n",
       "      <td>0.0</td>\n",
       "      <td>0.0</td>\n",
       "      <td>0.0</td>\n",
       "      <td>0.0</td>\n",
       "      <td>0.0</td>\n",
       "      <td>0.0</td>\n",
       "      <td>0.0</td>\n",
       "    </tr>\n",
       "    <tr>\n",
       "      <th>2014-09-02</th>\n",
       "      <td>0.0</td>\n",
       "      <td>0.0</td>\n",
       "      <td>0.0</td>\n",
       "      <td>0.0</td>\n",
       "      <td>0.0</td>\n",
       "      <td>0.0</td>\n",
       "      <td>0.0</td>\n",
       "      <td>0.0</td>\n",
       "      <td>0.0</td>\n",
       "      <td>0.0</td>\n",
       "      <td>...</td>\n",
       "      <td>0.0</td>\n",
       "      <td>0.0</td>\n",
       "      <td>0.0</td>\n",
       "      <td>0.0</td>\n",
       "      <td>0.0</td>\n",
       "      <td>0.0</td>\n",
       "      <td>0.0</td>\n",
       "      <td>0.0</td>\n",
       "      <td>0.0</td>\n",
       "      <td>0.0</td>\n",
       "    </tr>\n",
       "    <tr>\n",
       "      <th>2014-09-03</th>\n",
       "      <td>0.0</td>\n",
       "      <td>0.0</td>\n",
       "      <td>0.0</td>\n",
       "      <td>0.0</td>\n",
       "      <td>0.0</td>\n",
       "      <td>0.0</td>\n",
       "      <td>0.0</td>\n",
       "      <td>0.0</td>\n",
       "      <td>0.0</td>\n",
       "      <td>0.0</td>\n",
       "      <td>...</td>\n",
       "      <td>0.0</td>\n",
       "      <td>0.0</td>\n",
       "      <td>0.0</td>\n",
       "      <td>0.0</td>\n",
       "      <td>0.0</td>\n",
       "      <td>0.0</td>\n",
       "      <td>0.0</td>\n",
       "      <td>0.0</td>\n",
       "      <td>0.0</td>\n",
       "      <td>0.0</td>\n",
       "    </tr>\n",
       "    <tr>\n",
       "      <th>2014-09-04</th>\n",
       "      <td>0.0</td>\n",
       "      <td>0.0</td>\n",
       "      <td>0.0</td>\n",
       "      <td>0.0</td>\n",
       "      <td>0.0</td>\n",
       "      <td>0.0</td>\n",
       "      <td>0.0</td>\n",
       "      <td>0.0</td>\n",
       "      <td>0.0</td>\n",
       "      <td>0.0</td>\n",
       "      <td>...</td>\n",
       "      <td>0.0</td>\n",
       "      <td>0.0</td>\n",
       "      <td>0.0</td>\n",
       "      <td>0.0</td>\n",
       "      <td>0.0</td>\n",
       "      <td>0.0</td>\n",
       "      <td>0.0</td>\n",
       "      <td>0.0</td>\n",
       "      <td>0.0</td>\n",
       "      <td>0.0</td>\n",
       "    </tr>\n",
       "    <tr>\n",
       "      <th>2014-09-05</th>\n",
       "      <td>0.0</td>\n",
       "      <td>0.0</td>\n",
       "      <td>0.0</td>\n",
       "      <td>0.0</td>\n",
       "      <td>0.0</td>\n",
       "      <td>0.0</td>\n",
       "      <td>0.0</td>\n",
       "      <td>0.0</td>\n",
       "      <td>0.0</td>\n",
       "      <td>0.0</td>\n",
       "      <td>...</td>\n",
       "      <td>0.0</td>\n",
       "      <td>0.0</td>\n",
       "      <td>0.0</td>\n",
       "      <td>0.0</td>\n",
       "      <td>0.0</td>\n",
       "      <td>0.0</td>\n",
       "      <td>0.0</td>\n",
       "      <td>0.0</td>\n",
       "      <td>0.0</td>\n",
       "      <td>0.0</td>\n",
       "    </tr>\n",
       "  </tbody>\n",
       "</table>\n",
       "<p>5 rows × 24 columns</p>\n",
       "</div>"
      ],
      "text/plain": [
       "            340_NV_SNTL  356_CA_SNTL  1051_CA_SNTL  1067_CA_SNTL  428_CA_SNTL  \\\n",
       "2014-09-01          0.0          0.0           0.0           0.0          0.0   \n",
       "2014-09-02          0.0          0.0           0.0           0.0          0.0   \n",
       "2014-09-03          0.0          0.0           0.0           0.0          0.0   \n",
       "2014-09-04          0.0          0.0           0.0           0.0          0.0   \n",
       "2014-09-05          0.0          0.0           0.0           0.0          0.0   \n",
       "\n",
       "            462_CA_SNTL  463_CA_SNTL  473_CA_SNTL  1049_CA_SNTL  508_CA_SNTL  \\\n",
       "2014-09-01          0.0          0.0          0.0           0.0          0.0   \n",
       "2014-09-02          0.0          0.0          0.0           0.0          0.0   \n",
       "2014-09-03          0.0          0.0          0.0           0.0          0.0   \n",
       "2014-09-04          0.0          0.0          0.0           0.0          0.0   \n",
       "2014-09-05          0.0          0.0          0.0           0.0          0.0   \n",
       "\n",
       "            ...  541_CA_SNTL  1242_NV_SNTL  615_NV_SNTL  652_NV_SNTL  \\\n",
       "2014-09-01  ...          0.0           0.0          0.0          0.0   \n",
       "2014-09-02  ...          0.0           0.0          0.0          0.0   \n",
       "2014-09-03  ...          0.0           0.0          0.0          0.0   \n",
       "2014-09-04  ...          0.0           0.0          0.0          0.0   \n",
       "2014-09-05  ...          0.0           0.0          0.0          0.0   \n",
       "\n",
       "            724_CA_SNTL  778_CA_SNTL  784_CA_SNTL  809_CA_SNTL  834_CA_SNTL  \\\n",
       "2014-09-01          0.0          0.0          0.0          0.0          0.0   \n",
       "2014-09-02          0.0          0.0          0.0          0.0          0.0   \n",
       "2014-09-03          0.0          0.0          0.0          0.0          0.0   \n",
       "2014-09-04          0.0          0.0          0.0          0.0          0.0   \n",
       "2014-09-05          0.0          0.0          0.0          0.0          0.0   \n",
       "\n",
       "            848_CA_SNTL  \n",
       "2014-09-01          0.0  \n",
       "2014-09-02          0.0  \n",
       "2014-09-03          0.0  \n",
       "2014-09-04          0.0  \n",
       "2014-09-05          0.0  \n",
       "\n",
       "[5 rows x 24 columns]"
      ]
     },
     "execution_count": 12,
     "metadata": {},
     "output_type": "execute_result"
    }
   ],
   "source": [
    "stn_swe.head()"
   ]
  },
  {
   "cell_type": "code",
   "execution_count": 13,
   "metadata": {},
   "outputs": [
    {
     "data": {
      "text/html": [
       "<div>\n",
       "<style scoped>\n",
       "    .dataframe tbody tr th:only-of-type {\n",
       "        vertical-align: middle;\n",
       "    }\n",
       "\n",
       "    .dataframe tbody tr th {\n",
       "        vertical-align: top;\n",
       "    }\n",
       "\n",
       "    .dataframe thead th {\n",
       "        text-align: right;\n",
       "    }\n",
       "</style>\n",
       "<table border=\"1\" class=\"dataframe\">\n",
       "  <thead>\n",
       "    <tr style=\"text-align: right;\">\n",
       "      <th></th>\n",
       "      <th>340_NV_SNTL</th>\n",
       "      <th>356_CA_SNTL</th>\n",
       "      <th>1051_CA_SNTL</th>\n",
       "      <th>1067_CA_SNTL</th>\n",
       "      <th>428_CA_SNTL</th>\n",
       "      <th>462_CA_SNTL</th>\n",
       "      <th>463_CA_SNTL</th>\n",
       "      <th>473_CA_SNTL</th>\n",
       "      <th>1049_CA_SNTL</th>\n",
       "      <th>508_CA_SNTL</th>\n",
       "      <th>...</th>\n",
       "      <th>541_CA_SNTL</th>\n",
       "      <th>1242_NV_SNTL</th>\n",
       "      <th>615_NV_SNTL</th>\n",
       "      <th>652_NV_SNTL</th>\n",
       "      <th>724_CA_SNTL</th>\n",
       "      <th>778_CA_SNTL</th>\n",
       "      <th>784_CA_SNTL</th>\n",
       "      <th>809_CA_SNTL</th>\n",
       "      <th>834_CA_SNTL</th>\n",
       "      <th>848_CA_SNTL</th>\n",
       "    </tr>\n",
       "  </thead>\n",
       "  <tbody>\n",
       "    <tr>\n",
       "      <th>2014-09-01</th>\n",
       "      <td>0.0</td>\n",
       "      <td>0.0</td>\n",
       "      <td>0.0</td>\n",
       "      <td>0.0</td>\n",
       "      <td>0.0</td>\n",
       "      <td>0.0</td>\n",
       "      <td>0.0</td>\n",
       "      <td>0.0</td>\n",
       "      <td>0.0</td>\n",
       "      <td>0.0</td>\n",
       "      <td>...</td>\n",
       "      <td>0.0</td>\n",
       "      <td>0.0</td>\n",
       "      <td>0.0</td>\n",
       "      <td>0.0</td>\n",
       "      <td>0.0</td>\n",
       "      <td>0.0</td>\n",
       "      <td>0.0</td>\n",
       "      <td>0.0</td>\n",
       "      <td>0.0</td>\n",
       "      <td>0.0</td>\n",
       "    </tr>\n",
       "    <tr>\n",
       "      <th>2014-09-02</th>\n",
       "      <td>0.0</td>\n",
       "      <td>0.0</td>\n",
       "      <td>0.0</td>\n",
       "      <td>0.0</td>\n",
       "      <td>0.0</td>\n",
       "      <td>0.0</td>\n",
       "      <td>0.0</td>\n",
       "      <td>0.0</td>\n",
       "      <td>0.0</td>\n",
       "      <td>0.0</td>\n",
       "      <td>...</td>\n",
       "      <td>0.0</td>\n",
       "      <td>0.0</td>\n",
       "      <td>0.0</td>\n",
       "      <td>0.0</td>\n",
       "      <td>0.0</td>\n",
       "      <td>0.0</td>\n",
       "      <td>0.0</td>\n",
       "      <td>0.0</td>\n",
       "      <td>0.0</td>\n",
       "      <td>0.0</td>\n",
       "    </tr>\n",
       "    <tr>\n",
       "      <th>2014-09-03</th>\n",
       "      <td>0.0</td>\n",
       "      <td>0.0</td>\n",
       "      <td>0.0</td>\n",
       "      <td>0.0</td>\n",
       "      <td>0.0</td>\n",
       "      <td>0.0</td>\n",
       "      <td>0.0</td>\n",
       "      <td>0.0</td>\n",
       "      <td>0.0</td>\n",
       "      <td>0.0</td>\n",
       "      <td>...</td>\n",
       "      <td>0.0</td>\n",
       "      <td>0.0</td>\n",
       "      <td>0.0</td>\n",
       "      <td>0.0</td>\n",
       "      <td>0.0</td>\n",
       "      <td>0.0</td>\n",
       "      <td>0.0</td>\n",
       "      <td>0.0</td>\n",
       "      <td>0.0</td>\n",
       "      <td>0.0</td>\n",
       "    </tr>\n",
       "    <tr>\n",
       "      <th>2014-09-04</th>\n",
       "      <td>0.0</td>\n",
       "      <td>0.0</td>\n",
       "      <td>0.0</td>\n",
       "      <td>0.0</td>\n",
       "      <td>0.0</td>\n",
       "      <td>0.0</td>\n",
       "      <td>0.0</td>\n",
       "      <td>0.0</td>\n",
       "      <td>0.0</td>\n",
       "      <td>0.0</td>\n",
       "      <td>...</td>\n",
       "      <td>0.0</td>\n",
       "      <td>0.0</td>\n",
       "      <td>0.0</td>\n",
       "      <td>0.0</td>\n",
       "      <td>0.0</td>\n",
       "      <td>0.0</td>\n",
       "      <td>0.0</td>\n",
       "      <td>0.0</td>\n",
       "      <td>0.0</td>\n",
       "      <td>0.0</td>\n",
       "    </tr>\n",
       "    <tr>\n",
       "      <th>2014-09-05</th>\n",
       "      <td>0.0</td>\n",
       "      <td>0.0</td>\n",
       "      <td>0.0</td>\n",
       "      <td>0.0</td>\n",
       "      <td>0.0</td>\n",
       "      <td>0.0</td>\n",
       "      <td>0.0</td>\n",
       "      <td>0.0</td>\n",
       "      <td>0.0</td>\n",
       "      <td>0.0</td>\n",
       "      <td>...</td>\n",
       "      <td>0.0</td>\n",
       "      <td>0.0</td>\n",
       "      <td>0.0</td>\n",
       "      <td>0.0</td>\n",
       "      <td>0.0</td>\n",
       "      <td>0.0</td>\n",
       "      <td>0.0</td>\n",
       "      <td>0.0</td>\n",
       "      <td>0.0</td>\n",
       "      <td>0.0</td>\n",
       "    </tr>\n",
       "  </tbody>\n",
       "</table>\n",
       "<p>5 rows × 24 columns</p>\n",
       "</div>"
      ],
      "text/plain": [
       "            340_NV_SNTL  356_CA_SNTL  1051_CA_SNTL  1067_CA_SNTL  428_CA_SNTL  \\\n",
       "2014-09-01          0.0          0.0           0.0           0.0          0.0   \n",
       "2014-09-02          0.0          0.0           0.0           0.0          0.0   \n",
       "2014-09-03          0.0          0.0           0.0           0.0          0.0   \n",
       "2014-09-04          0.0          0.0           0.0           0.0          0.0   \n",
       "2014-09-05          0.0          0.0           0.0           0.0          0.0   \n",
       "\n",
       "            462_CA_SNTL  463_CA_SNTL  473_CA_SNTL  1049_CA_SNTL  508_CA_SNTL  \\\n",
       "2014-09-01          0.0          0.0          0.0           0.0          0.0   \n",
       "2014-09-02          0.0          0.0          0.0           0.0          0.0   \n",
       "2014-09-03          0.0          0.0          0.0           0.0          0.0   \n",
       "2014-09-04          0.0          0.0          0.0           0.0          0.0   \n",
       "2014-09-05          0.0          0.0          0.0           0.0          0.0   \n",
       "\n",
       "            ...  541_CA_SNTL  1242_NV_SNTL  615_NV_SNTL  652_NV_SNTL  \\\n",
       "2014-09-01  ...          0.0           0.0          0.0          0.0   \n",
       "2014-09-02  ...          0.0           0.0          0.0          0.0   \n",
       "2014-09-03  ...          0.0           0.0          0.0          0.0   \n",
       "2014-09-04  ...          0.0           0.0          0.0          0.0   \n",
       "2014-09-05  ...          0.0           0.0          0.0          0.0   \n",
       "\n",
       "            724_CA_SNTL  778_CA_SNTL  784_CA_SNTL  809_CA_SNTL  834_CA_SNTL  \\\n",
       "2014-09-01          0.0          0.0          0.0          0.0          0.0   \n",
       "2014-09-02          0.0          0.0          0.0          0.0          0.0   \n",
       "2014-09-03          0.0          0.0          0.0          0.0          0.0   \n",
       "2014-09-04          0.0          0.0          0.0          0.0          0.0   \n",
       "2014-09-05          0.0          0.0          0.0          0.0          0.0   \n",
       "\n",
       "            848_CA_SNTL  \n",
       "2014-09-01          0.0  \n",
       "2014-09-02          0.0  \n",
       "2014-09-03          0.0  \n",
       "2014-09-04          0.0  \n",
       "2014-09-05          0.0  \n",
       "\n",
       "[5 rows x 24 columns]"
      ]
     },
     "execution_count": 13,
     "metadata": {},
     "output_type": "execute_result"
    }
   ],
   "source": [
    "#convert SNOTEL units[in] to SnowModel units [m]\n",
    "for sitecode in CSO_gdf.code:\n",
    "    # overwrite the original values (no use for the original values in inches)\n",
    "    stn_swe[sitecode] = 0.0254 * stn_swe[sitecode]\n",
    "\n",
    "stn_swe.head()"
   ]
  },
  {
   "cell_type": "code",
   "execution_count": null,
   "metadata": {},
   "outputs": [],
   "source": [
    "ndf = pd.DataFrame(stn_swe['314_WY_SNTL'])\n",
    "data ="
   ]
  },
  {
   "cell_type": "markdown",
   "metadata": {},
   "source": [
    "## Export the sites to files, for reuse\n",
    "- CSO_gdf to GeoJSON"
   ]
  },
  {
   "cell_type": "markdown",
   "metadata": {},
   "source": [
    "**Note:** Sometimes the statement below produces this warning:\n",
    "```\n",
    "CSO_SNOTEL_sites.geojson: No such file or directory \n",
    "driver GeoJSON does not support creation option ENCODING\n",
    "```\n",
    "\n",
    "Ignore it. The GeoJSON file is still written out without issues."
   ]
  },
  {
   "cell_type": "code",
   "execution_count": 14,
   "metadata": {},
   "outputs": [],
   "source": [
    "out = outpath + 'CSO_SNOTEL_sites.geojson'\n",
    "CSO_gdf.to_file(out, driver='GeoJSON')"
   ]
  },
  {
   "cell_type": "markdown",
   "metadata": {},
   "source": [
    "## Export the daily time series to files, for reuse\n",
    "- stn_swe to csv"
   ]
  },
  {
   "cell_type": "code",
   "execution_count": 15,
   "metadata": {},
   "outputs": [],
   "source": [
    "# The file that's written is tiny, only 0.5 MB\n",
    "out = outpath + 'CSO_SNOTEL_data_SWEDmeters.csv'\n",
    "stn_swe.to_csv(out)"
   ]
  },
  {
   "cell_type": "markdown",
   "metadata": {},
   "source": [
    "# Get SNOTEL snow depth data in domain, over time period of interest"
   ]
  },
  {
   "cell_type": "code",
   "execution_count": 73,
   "metadata": {},
   "outputs": [
    {
     "name": "stdout",
     "output_type": "stream",
     "text": [
      "1166_OR_SNTL SNOTEL:SNOD_D 2014-09-01 2019-09-30\n"
     ]
    },
    {
     "name": "stderr",
     "output_type": "stream",
     "text": [
      "<suds.sax.document.Document object at 0x7efe9e320860>\n",
      "<suds.sax.document.Document object at 0x7efe9e35c2e8>\n"
     ]
    },
    {
     "name": "stdout",
     "output_type": "stream",
     "text": [
      "Unable to fetch SNOTEL:SNOD_D\n",
      "434_OR_SNTL SNOTEL:SNOD_D 2014-09-01 2019-09-30\n",
      "Unable to fetch SNOTEL:SNOD_D\n",
      "526_OR_SNTL SNOTEL:SNOD_D 2014-09-01 2019-09-30\n"
     ]
    },
    {
     "name": "stderr",
     "output_type": "stream",
     "text": [
      "<suds.sax.document.Document object at 0x7efe9e320eb8>\n",
      "<suds.sax.document.Document object at 0x7efe9e2b64e0>\n"
     ]
    },
    {
     "name": "stdout",
     "output_type": "stream",
     "text": [
      "Unable to fetch SNOTEL:SNOD_D\n",
      "545_OR_SNTL SNOTEL:SNOD_D 2014-09-01 2019-09-30\n",
      "Unable to fetch SNOTEL:SNOD_D\n",
      "614_OR_SNTL SNOTEL:SNOD_D 2014-09-01 2019-09-30\n"
     ]
    },
    {
     "name": "stderr",
     "output_type": "stream",
     "text": [
      "<suds.sax.document.Document object at 0x7efe9e301320>\n",
      "<suds.sax.document.Document object at 0x7efe9e183908>\n"
     ]
    },
    {
     "name": "stdout",
     "output_type": "stream",
     "text": [
      "Unable to fetch SNOTEL:SNOD_D\n",
      "619_OR_SNTL SNOTEL:SNOD_D 2014-09-01 2019-09-30\n",
      "Unable to fetch SNOTEL:SNOD_D\n",
      "719_OR_SNTL SNOTEL:SNOD_D 2014-09-01 2019-09-30\n"
     ]
    },
    {
     "name": "stderr",
     "output_type": "stream",
     "text": [
      "<suds.sax.document.Document object at 0x7efe9e301160>\n",
      "<suds.sax.document.Document object at 0x7efe9e176dd8>\n"
     ]
    },
    {
     "name": "stdout",
     "output_type": "stream",
     "text": [
      "Unable to fetch SNOTEL:SNOD_D\n",
      "733_OR_SNTL SNOTEL:SNOD_D 2014-09-01 2019-09-30\n",
      "Unable to fetch SNOTEL:SNOD_D\n",
      "1167_OR_SNTL SNOTEL:SNOD_D 2014-09-01 2019-09-30\n"
     ]
    },
    {
     "name": "stderr",
     "output_type": "stream",
     "text": [
      "<suds.sax.document.Document object at 0x7efe9e377240>\n",
      "<suds.sax.document.Document object at 0x7efe9e3203c8>\n"
     ]
    },
    {
     "name": "stdout",
     "output_type": "stream",
     "text": [
      "Unable to fetch SNOTEL:SNOD_D\n",
      "815_OR_SNTL SNOTEL:SNOD_D 2014-09-01 2019-09-30\n",
      "Unable to fetch SNOTEL:SNOD_D\n"
     ]
    }
   ],
   "source": [
    "stn_snod = pd.DataFrame(index=pd.date_range(start=st, end=ed))\n",
    "\n",
    "for sitecode in CSO_gdf.code:\n",
    "    try:\n",
    "        swe = fetch(sitecode, variablecode='SNOTEL:SNOD_D', start_date=st, end_date=ed)\n",
    "        #check for nan values\n",
    "        if len(swe.value[np.isnan(swe.value)]) > 0:\n",
    "            #check if more than 10% of data is missing\n",
    "            if len(swe.value[np.isnan(swe.value)])/len(swe) > .1:\n",
    "                print('More than 10% of days missing')\n",
    "                CSO_gdf.drop(CSO_gdf.loc[CSO_gdf['code']==sitecode].index, inplace=True)\n",
    "                continue\n",
    "        stn_snod[sitecode] = swe.value\n",
    "    except:\n",
    "        CSO_gdf.drop(CSO_gdf.loc[CSO_gdf['code']==sitecode].index, inplace=True)"
   ]
  },
  {
   "cell_type": "code",
   "execution_count": null,
   "metadata": {},
   "outputs": [],
   "source": [
    "stn_snod.head()"
   ]
  },
  {
   "cell_type": "code",
   "execution_count": null,
   "metadata": {},
   "outputs": [],
   "source": [
    "#convert SNOTEL units[in] to SnowModel units [m]\n",
    "for sitecode in CSO_gdf.code:\n",
    "    # overwrite the original values (no use for the original values in inches)\n",
    "    stn_snod[sitecode] = 0.0254 * stn_snod[sitecode]\n",
    "\n",
    "stn_swe.head()"
   ]
  },
  {
   "cell_type": "markdown",
   "metadata": {},
   "source": [
    "## Export the daily time series to files, for reuse\n",
    "- stn_swe to csv"
   ]
  },
  {
   "cell_type": "code",
   "execution_count": null,
   "metadata": {},
   "outputs": [],
   "source": [
    "out = outpath + 'CSO_SNOTEL_data_SNODmeters.csv'\n",
    "stn_snod.to_csv(out)"
   ]
  },
  {
   "cell_type": "markdown",
   "metadata": {},
   "source": [
    "## Remove outliers using mahalanobis distance"
   ]
  },
  {
   "cell_type": "code",
   "execution_count": 29,
   "metadata": {},
   "outputs": [],
   "source": [
    "# function to compute Mahalanobis Distance\n",
    "from scipy import linalg\n",
    "\n",
    "def mahalanobis(x=None, data=None, cov=None):\n",
    "    \"\"\"Compute the Mahalanobis Distance between each row of x and the data  \n",
    "    x    : vector or matrix of data with, say, p columns.\n",
    "    data : ndarray of the distribution from which Mahalanobis distance of each observation of x is to be computed.\n",
    "    cov  : covariance matrix (p x p) of the distribution. If None, will be computed from data.\n",
    "    \"\"\"\n",
    "    x_minus_mu = x - np.mean(data)\n",
    "    if not cov:\n",
    "        cov = np.cov(data.values.T)\n",
    "    inv_covmat = linalg.inv(cov)\n",
    "    left_term = np.dot(x_minus_mu, inv_covmat)\n",
    "    mahal = np.dot(left_term, x_minus_mu.T)\n",
    "    return mahal.diagonal()\n",
    "\n"
   ]
  },
  {
   "cell_type": "code",
   "execution_count": 15,
   "metadata": {},
   "outputs": [
    {
     "ename": "KeyError",
     "evalue": "0",
     "output_type": "error",
     "traceback": [
      "\u001b[0;31m---------------------------------------------------------------------------\u001b[0m",
      "\u001b[0;31mKeyError\u001b[0m                                  Traceback (most recent call last)",
      "\u001b[0;32m/nfs/attic/dfh/miniconda/envs/snowmodelcal/lib/python3.6/site-packages/pandas/core/indexes/base.py\u001b[0m in \u001b[0;36mget_loc\u001b[0;34m(self, key, method, tolerance)\u001b[0m\n\u001b[1;32m   2645\u001b[0m             \u001b[0;32mtry\u001b[0m\u001b[0;34m:\u001b[0m\u001b[0;34m\u001b[0m\u001b[0;34m\u001b[0m\u001b[0m\n\u001b[0;32m-> 2646\u001b[0;31m                 \u001b[0;32mreturn\u001b[0m \u001b[0mself\u001b[0m\u001b[0;34m.\u001b[0m\u001b[0m_engine\u001b[0m\u001b[0;34m.\u001b[0m\u001b[0mget_loc\u001b[0m\u001b[0;34m(\u001b[0m\u001b[0mkey\u001b[0m\u001b[0;34m)\u001b[0m\u001b[0;34m\u001b[0m\u001b[0;34m\u001b[0m\u001b[0m\n\u001b[0m\u001b[1;32m   2647\u001b[0m             \u001b[0;32mexcept\u001b[0m \u001b[0mKeyError\u001b[0m\u001b[0;34m:\u001b[0m\u001b[0;34m\u001b[0m\u001b[0;34m\u001b[0m\u001b[0m\n",
      "\u001b[0;32mpandas/_libs/index.pyx\u001b[0m in \u001b[0;36mpandas._libs.index.IndexEngine.get_loc\u001b[0;34m()\u001b[0m\n",
      "\u001b[0;32mpandas/_libs/index.pyx\u001b[0m in \u001b[0;36mpandas._libs.index.IndexEngine.get_loc\u001b[0;34m()\u001b[0m\n",
      "\u001b[0;32mpandas/_libs/hashtable_class_helper.pxi\u001b[0m in \u001b[0;36mpandas._libs.hashtable.PyObjectHashTable.get_item\u001b[0;34m()\u001b[0m\n",
      "\u001b[0;32mpandas/_libs/hashtable_class_helper.pxi\u001b[0m in \u001b[0;36mpandas._libs.hashtable.PyObjectHashTable.get_item\u001b[0;34m()\u001b[0m\n",
      "\u001b[0;31mKeyError\u001b[0m: 0",
      "\nDuring handling of the above exception, another exception occurred:\n",
      "\u001b[0;31mKeyError\u001b[0m                                  Traceback (most recent call last)",
      "\u001b[0;32m<ipython-input-15-e98a2cee413c>\u001b[0m in \u001b[0;36m<module>\u001b[0;34m\u001b[0m\n\u001b[0;32m----> 1\u001b[0;31m \u001b[0mstn_swe\u001b[0m\u001b[0;34m[\u001b[0m\u001b[0;36m0\u001b[0m\u001b[0;34m]\u001b[0m\u001b[0;34m\u001b[0m\u001b[0;34m\u001b[0m\u001b[0m\n\u001b[0m",
      "\u001b[0;32m/nfs/attic/dfh/miniconda/envs/snowmodelcal/lib/python3.6/site-packages/pandas/core/frame.py\u001b[0m in \u001b[0;36m__getitem__\u001b[0;34m(self, key)\u001b[0m\n\u001b[1;32m   2798\u001b[0m             \u001b[0;32mif\u001b[0m \u001b[0mself\u001b[0m\u001b[0;34m.\u001b[0m\u001b[0mcolumns\u001b[0m\u001b[0;34m.\u001b[0m\u001b[0mnlevels\u001b[0m \u001b[0;34m>\u001b[0m \u001b[0;36m1\u001b[0m\u001b[0;34m:\u001b[0m\u001b[0;34m\u001b[0m\u001b[0;34m\u001b[0m\u001b[0m\n\u001b[1;32m   2799\u001b[0m                 \u001b[0;32mreturn\u001b[0m \u001b[0mself\u001b[0m\u001b[0;34m.\u001b[0m\u001b[0m_getitem_multilevel\u001b[0m\u001b[0;34m(\u001b[0m\u001b[0mkey\u001b[0m\u001b[0;34m)\u001b[0m\u001b[0;34m\u001b[0m\u001b[0;34m\u001b[0m\u001b[0m\n\u001b[0;32m-> 2800\u001b[0;31m             \u001b[0mindexer\u001b[0m \u001b[0;34m=\u001b[0m \u001b[0mself\u001b[0m\u001b[0;34m.\u001b[0m\u001b[0mcolumns\u001b[0m\u001b[0;34m.\u001b[0m\u001b[0mget_loc\u001b[0m\u001b[0;34m(\u001b[0m\u001b[0mkey\u001b[0m\u001b[0;34m)\u001b[0m\u001b[0;34m\u001b[0m\u001b[0;34m\u001b[0m\u001b[0m\n\u001b[0m\u001b[1;32m   2801\u001b[0m             \u001b[0;32mif\u001b[0m \u001b[0mis_integer\u001b[0m\u001b[0;34m(\u001b[0m\u001b[0mindexer\u001b[0m\u001b[0;34m)\u001b[0m\u001b[0;34m:\u001b[0m\u001b[0;34m\u001b[0m\u001b[0;34m\u001b[0m\u001b[0m\n\u001b[1;32m   2802\u001b[0m                 \u001b[0mindexer\u001b[0m \u001b[0;34m=\u001b[0m \u001b[0;34m[\u001b[0m\u001b[0mindexer\u001b[0m\u001b[0;34m]\u001b[0m\u001b[0;34m\u001b[0m\u001b[0;34m\u001b[0m\u001b[0m\n",
      "\u001b[0;32m/nfs/attic/dfh/miniconda/envs/snowmodelcal/lib/python3.6/site-packages/pandas/core/indexes/base.py\u001b[0m in \u001b[0;36mget_loc\u001b[0;34m(self, key, method, tolerance)\u001b[0m\n\u001b[1;32m   2646\u001b[0m                 \u001b[0;32mreturn\u001b[0m \u001b[0mself\u001b[0m\u001b[0;34m.\u001b[0m\u001b[0m_engine\u001b[0m\u001b[0;34m.\u001b[0m\u001b[0mget_loc\u001b[0m\u001b[0;34m(\u001b[0m\u001b[0mkey\u001b[0m\u001b[0;34m)\u001b[0m\u001b[0;34m\u001b[0m\u001b[0;34m\u001b[0m\u001b[0m\n\u001b[1;32m   2647\u001b[0m             \u001b[0;32mexcept\u001b[0m \u001b[0mKeyError\u001b[0m\u001b[0;34m:\u001b[0m\u001b[0;34m\u001b[0m\u001b[0;34m\u001b[0m\u001b[0m\n\u001b[0;32m-> 2648\u001b[0;31m                 \u001b[0;32mreturn\u001b[0m \u001b[0mself\u001b[0m\u001b[0;34m.\u001b[0m\u001b[0m_engine\u001b[0m\u001b[0;34m.\u001b[0m\u001b[0mget_loc\u001b[0m\u001b[0;34m(\u001b[0m\u001b[0mself\u001b[0m\u001b[0;34m.\u001b[0m\u001b[0m_maybe_cast_indexer\u001b[0m\u001b[0;34m(\u001b[0m\u001b[0mkey\u001b[0m\u001b[0;34m)\u001b[0m\u001b[0;34m)\u001b[0m\u001b[0;34m\u001b[0m\u001b[0;34m\u001b[0m\u001b[0m\n\u001b[0m\u001b[1;32m   2649\u001b[0m         \u001b[0mindexer\u001b[0m \u001b[0;34m=\u001b[0m \u001b[0mself\u001b[0m\u001b[0;34m.\u001b[0m\u001b[0mget_indexer\u001b[0m\u001b[0;34m(\u001b[0m\u001b[0;34m[\u001b[0m\u001b[0mkey\u001b[0m\u001b[0;34m]\u001b[0m\u001b[0;34m,\u001b[0m \u001b[0mmethod\u001b[0m\u001b[0;34m=\u001b[0m\u001b[0mmethod\u001b[0m\u001b[0;34m,\u001b[0m \u001b[0mtolerance\u001b[0m\u001b[0;34m=\u001b[0m\u001b[0mtolerance\u001b[0m\u001b[0;34m)\u001b[0m\u001b[0;34m\u001b[0m\u001b[0;34m\u001b[0m\u001b[0m\n\u001b[1;32m   2650\u001b[0m         \u001b[0;32mif\u001b[0m \u001b[0mindexer\u001b[0m\u001b[0;34m.\u001b[0m\u001b[0mndim\u001b[0m \u001b[0;34m>\u001b[0m \u001b[0;36m1\u001b[0m \u001b[0;32mor\u001b[0m \u001b[0mindexer\u001b[0m\u001b[0;34m.\u001b[0m\u001b[0msize\u001b[0m \u001b[0;34m>\u001b[0m \u001b[0;36m1\u001b[0m\u001b[0;34m:\u001b[0m\u001b[0;34m\u001b[0m\u001b[0;34m\u001b[0m\u001b[0m\n",
      "\u001b[0;32mpandas/_libs/index.pyx\u001b[0m in \u001b[0;36mpandas._libs.index.IndexEngine.get_loc\u001b[0;34m()\u001b[0m\n",
      "\u001b[0;32mpandas/_libs/index.pyx\u001b[0m in \u001b[0;36mpandas._libs.index.IndexEngine.get_loc\u001b[0;34m()\u001b[0m\n",
      "\u001b[0;32mpandas/_libs/hashtable_class_helper.pxi\u001b[0m in \u001b[0;36mpandas._libs.hashtable.PyObjectHashTable.get_item\u001b[0;34m()\u001b[0m\n",
      "\u001b[0;32mpandas/_libs/hashtable_class_helper.pxi\u001b[0m in \u001b[0;36mpandas._libs.hashtable.PyObjectHashTable.get_item\u001b[0;34m()\u001b[0m\n",
      "\u001b[0;31mKeyError\u001b[0m: 0"
     ]
    }
   ],
   "source": [
    "for sitecode in CSO_gdf.code:\n",
    "    ndf = pd.DataFrame(stn_swe[sitecode])\n",
    "    ndf['mahala'] = mahalanobis(x=ndf, data=ndf[sitecode])"
   ]
  },
  {
   "cell_type": "code",
   "execution_count": null,
   "metadata": {},
   "outputs": [],
   "source": [
    "# this code can be used to fill nan values in the SNOTEL data\n",
    "\n",
    "# def ranges(nums):\n",
    "#     nums = sorted(set(nums))\n",
    "#     gaps = [[s, e] for s, e in zip(nums, nums[1:]) if s+1 < e]\n",
    "#     edges = iter(nums[:1] + sum(gaps, []) + nums[-1:])\n",
    "#     return list(zip(edges, edges))\n",
    "\n",
    "#             #fill in nan values\n",
    "#             f = np.where(np.isnan(swe.value))\n",
    "#             l=np.shape(f)[1]\n",
    "#             consec = ranges(f[0])\n",
    "#             for i in range(np.shape(consec)[0]):\n",
    "#                 st_bound = consec[i][0]\n",
    "#                 ed_bound = consec[i][1]\n",
    "#                 st_swe = swe.value[st_bound-1]\n",
    "#                 ed_swe = swe.value[ed_bound+1]\n",
    "#                 fill = (ed_swe-st_swe)/l\n",
    "#                 for n in range(l):\n",
    "#                     swe.value[f[0][n]]=st_swe+fill*(n+1)        "
   ]
  }
 ],
 "metadata": {
  "kernelspec": {
   "display_name": "Python [conda env:snowmodelcal]",
   "language": "python",
   "name": "conda-env-snowmodelcal-py"
  },
  "language_info": {
   "codemirror_mode": {
    "name": "ipython",
    "version": 3
   },
   "file_extension": ".py",
   "mimetype": "text/x-python",
   "name": "python",
   "nbconvert_exporter": "python",
   "pygments_lexer": "ipython3",
   "version": "3.6.10"
  }
 },
 "nbformat": 4,
 "nbformat_minor": 4
}
