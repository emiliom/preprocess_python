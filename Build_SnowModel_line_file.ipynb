{
 "cells": [
  {
   "cell_type": "code",
   "execution_count": 1,
   "metadata": {},
   "outputs": [],
   "source": [
    "import numpy as np\n",
    "import geopandas as gpd\n",
    "import codecs"
   ]
  },
  {
   "cell_type": "code",
   "execution_count": 25,
   "metadata": {},
   "outputs": [],
   "source": [
    "########### USER ###########\n",
    "#set domain\n",
    "domain = 'WY'\n"
   ]
  },
  {
   "cell_type": "code",
   "execution_count": 42,
   "metadata": {},
   "outputs": [],
   "source": [
    "# path to SnowModel\n",
    "#modpath = '/nfs/attic/dfh/Aragon2/mar2020_snowmodel-dfhill'+domain+'/'\n",
    "modpath = '/nfs/attic/dfh/Aragon2/mar2020_snowmodel-dfhill_test/'\n",
    "\n",
    "# path to DEM ascii\n",
    "DEMpath = '/nfs/attic/dfh/Aragon2/CSOdmn/'+domain+'/DEM_'+domain+'.asc'\n",
    "\n",
    "#path to SNOTEL gdf\n",
    "gdfpath = '/nfs/attic/dfh/Aragon2/CSOdata/'+domain+'/CSO_SNOTEL_sites.geojson'\n",
    "\n",
    "#path to VEG .asc\n",
    "VEGpath = '/nfs/attic/dfh/Aragon2/CSOdmn/'+domain+'/NLCD2016_'+domain+'.asc'\n",
    "\n",
    "#path to lat .asc\n",
    "LATpath = '/nfs/attic/dfh/Aragon2/CSOdmn/'+domain+'/grid_lat.asc'\n",
    "\n",
    "#path to lon .asc\n",
    "LONpath = '/nfs/attic/dfh/Aragon2/CSOdmn/'+domain+'/grid_lon.asc'\n",
    "\n",
    "# VEG outfile path\n",
    "outVEGpath = '/nfs/attic/dfh/Aragon2/CSOdmn/'+domain+'/NLCD2016_line_'+domain+'.asc'\n",
    "\n",
    "# DEM outfile path\n",
    "outDEMpath = '/nfs/attic/dfh/Aragon2/CSOdmn/'+domain+'/DEM_line_'+domain+'.asc'\n",
    "\n",
    "# Line outfile path\n",
    "outFpath = modpath+'snowmodel_line_pts.dat'\n",
    "\n",
    "#lon outfile path\n",
    "outLONpath = modpath+'extra_met/grid_lon.asc'\n",
    "\n",
    "#lat outfile path\n",
    "outLATpath = modpath+'extra_met/grid_lat.asc'\n",
    "\n",
    "# station data\n",
    "stn_gdf = gpd.read_file(gdfpath)"
   ]
  },
  {
   "cell_type": "code",
   "execution_count": 27,
   "metadata": {},
   "outputs": [],
   "source": [
    "def getmeta(file_name):\n",
    "    myvars = {}\n",
    "    lines = open(file_name, 'r').readlines()\n",
    "    for i in range(5):\n",
    "        line=lines[i]\n",
    "        name, var = line.partition(\"\\t\")[::2]\n",
    "        myvars[name.strip()] = int(var)\n",
    "    return myvars"
   ]
  },
  {
   "cell_type": "code",
   "execution_count": 28,
   "metadata": {},
   "outputs": [
    {
     "data": {
      "text/plain": [
       "{'ncols': 1382,\n",
       " 'nrows': 2476,\n",
       " 'xllcorner': 487200,\n",
       " 'yllcorner': 4690100,\n",
       " 'cellsize': 100}"
      ]
     },
     "execution_count": 28,
     "metadata": {},
     "output_type": "execute_result"
    }
   ],
   "source": [
    "myvars = getmeta(DEMpath)\n",
    "myvars"
   ]
  },
  {
   "cell_type": "code",
   "execution_count": 29,
   "metadata": {},
   "outputs": [],
   "source": [
    "#Build northing easting array \n",
    "#Northing\n",
    "# locate center of lower left cell\n",
    "st = myvars['yllcorner']+(myvars['cellsize']/2)\n",
    "#build northing array\n",
    "north = np.flip(np.arange(st,st+myvars['nrows']*myvars['cellsize'],myvars['cellsize']),0)\n",
    "\n",
    "#Easting\n",
    "# locate center of lower left cell\n",
    "st = myvars['xllcorner']+(myvars['cellsize']/2)\n",
    "#build easting array\n",
    "east = np.arange(st,st+myvars['ncols']*myvars['cellsize'],myvars['cellsize'])"
   ]
  },
  {
   "cell_type": "code",
   "execution_count": 31,
   "metadata": {},
   "outputs": [],
   "source": [
    "#fortran indexing starts at 1\n",
    "#staion 1 to N of N stations\n",
    "count = np.zeros(stn_gdf.shape[0])\n",
    "#easting of pixel corresponding to station \n",
    "stn_est = np.zeros(stn_gdf.shape[0])\n",
    "#northing of pixel corresponding to station\n",
    "stn_nor = np.zeros(stn_gdf.shape[0])\n",
    "#index of pixel corresponding to station \n",
    "est_idx = np.zeros(stn_gdf.shape[0])\n",
    "#index of pixel corresponding to station \n",
    "nor_idx = np.zeros(stn_gdf.shape[0])\n",
    "\n",
    "for z in range(stn_gdf.shape[0]):\n",
    "    count[z] = z + 1\n",
    "    lons = abs(stn_gdf.easting[z]-east)\n",
    "    loIDX = [i for i, value in enumerate(lons) if value == np.min(abs(stn_gdf.easting[z]-east))] \n",
    "    stn_est[z] = east[loIDX[0]]\n",
    "    est_idx[z] = loIDX[0] + 1\n",
    "    lats = abs(stn_gdf.northing[z]-north)\n",
    "    laIDX = [i for i, value in enumerate(lats) if value == np.min(abs(stn_gdf.northing[z]-north))]\n",
    "    stn_nor[z] = north[laIDX[0]]\n",
    "    nor_idx[z] = laIDX[0] + 1"
   ]
  },
  {
   "cell_type": "code",
   "execution_count": 32,
   "metadata": {},
   "outputs": [
    {
     "name": "stdout",
     "output_type": "stream",
     "text": [
      "[ 1.  2.  3.  4.  5.  6.  7.  8.  9. 10. 11. 12. 13. 14. 15. 16. 17. 18.\n",
      " 19. 20. 21. 22. 23. 24. 25. 26. 27. 28. 29. 30.]\n"
     ]
    }
   ],
   "source": [
    "print(count)"
   ]
  },
  {
   "cell_type": "code",
   "execution_count": 33,
   "metadata": {},
   "outputs": [],
   "source": [
    "#Print out .dat file \n",
    "#https://pyformat.info/\n",
    "f= open(outFpath,\"w+\")\n",
    "for z in range(count.shape[0]):\n",
    "    f.write('{:08.0f}\\t'.format(count[z])+'{:10.0f}\\t'.format(est_idx[z])+'{:10.0f}\\t'.format(nor_idx[z])+\n",
    "            '{:10.0f}\\t'.format(stn_est[z])+'{:10.0f}\\t\\n'.format(stn_nor[z]))\n",
    "f.close() "
   ]
  },
  {
   "cell_type": "markdown",
   "metadata": {},
   "source": [
    "## Extract topo, veg, lat, and lon files for snowmodel_line"
   ]
  },
  {
   "cell_type": "code",
   "execution_count": 45,
   "metadata": {},
   "outputs": [],
   "source": [
    "# function to extract .asc files at SNOTEL locations\n",
    "def field2line(filepath,outpath):\n",
    "    with codecs.open(filepath, encoding='utf-8-sig') as f:\n",
    "        data = np.loadtxt(f,skiprows=6)\n",
    "    data_line=[]\n",
    "    for i in range(count.shape[0]):\n",
    "        data_line.append(str(int(data[int(nor_idx[i]-1),int(est_idx[i]-1)])))\n",
    "    lines = open(filepath, 'r').readlines()\n",
    "    head = 'ncols\\t1\\nnrows\\t'+str(count.shape[0])+'\\n'+lines[2]+lines[3]+lines[4]+lines[5]\n",
    "    data = ''\n",
    "    for s in lat_line:\n",
    "        data += s +'\\n'\n",
    "    f= open(outpath,\"w+\")\n",
    "    f.write(head+data)\n",
    "    f.close()"
   ]
  },
  {
   "cell_type": "code",
   "execution_count": 49,
   "metadata": {},
   "outputs": [],
   "source": [
    "#extract DEM\n",
    "field2line(DEMpath,outDEMpath)\n",
    "#extract VEG\n",
    "field2line(VEGpath,outVEGpath)\n",
    "#extract LAT\n",
    "field2line(LATpath,outLATpath)\n",
    "#extract LON\n",
    "field2line(LONpath,outLONpath)"
   ]
  },
  {
   "cell_type": "code",
   "execution_count": null,
   "metadata": {},
   "outputs": [],
   "source": []
  }
 ],
 "metadata": {
  "kernelspec": {
   "display_name": "Python [conda env:snowmodelcal]",
   "language": "python",
   "name": "conda-env-snowmodelcal-py"
  },
  "language_info": {
   "codemirror_mode": {
    "name": "ipython",
    "version": 3
   },
   "file_extension": ".py",
   "mimetype": "text/x-python",
   "name": "python",
   "nbconvert_exporter": "python",
   "pygments_lexer": "ipython3",
   "version": "3.6.10"
  }
 },
 "nbformat": 4,
 "nbformat_minor": 4
}
